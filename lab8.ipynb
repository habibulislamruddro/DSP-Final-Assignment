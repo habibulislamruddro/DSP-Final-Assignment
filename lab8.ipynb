{
  "nbformat": 4,
  "nbformat_minor": 0,
  "metadata": {
    "colab": {
      "provenance": [],
      "authorship_tag": "ABX9TyO8k3Qe5vVoSFPRhTwXtc0/",
      "include_colab_link": true
    },
    "kernelspec": {
      "name": "python3",
      "display_name": "Python 3"
    },
    "language_info": {
      "name": "python"
    }
  },
  "cells": [
    {
      "cell_type": "markdown",
      "metadata": {
        "id": "view-in-github",
        "colab_type": "text"
      },
      "source": [
        "<a href=\"https://colab.research.google.com/github/habibulislamruddro/DSP-Final-Assignment/blob/main/lab8.ipynb\" target=\"_parent\"><img src=\"https://colab.research.google.com/assets/colab-badge.svg\" alt=\"Open In Colab\"/></a>"
      ]
    },
    {
      "cell_type": "markdown",
      "source": [],
      "metadata": {
        "id": "cgYZfo6kTrGN"
      }
    },
    {
      "cell_type": "markdown",
      "source": [
        "8. Design an FIR filter to meet the following specifications—Passsband edge=2KHz, Stopband\n",
        "edge= 5KHZ, Fs=20KHz, Filter length =21, use Hanning window in the design"
      ],
      "metadata": {
        "id": "3CBIHzNbT6pT"
      }
    },
    {
      "cell_type": "code",
      "source": [
        "import numpy as np\n",
        "from scipy.signal import firwin,freqz\n",
        "import matplotlib.pyplot as plt"
      ],
      "metadata": {
        "id": "vX96HKyw1kpP"
      },
      "execution_count": 1,
      "outputs": []
    },
    {
      "cell_type": "code",
      "source": [
        "pass_band = int(input(\"Enter Pass Band:\"))\n",
        "stop = int(input(\"Enter stop Band:\"))\n",
        "fs1 = int(input(\"Enter Fs:\"))\n",
        "filter_length = int(input(\"Enter Filter length:\"))"
      ],
      "metadata": {
        "colab": {
          "base_uri": "https://localhost:8080/"
        },
        "id": "NRwWQ31M1mAX",
        "outputId": "8ac57deb-3d85-484b-84a3-c0b7537606d5"
      },
      "execution_count": 2,
      "outputs": [
        {
          "name": "stdout",
          "output_type": "stream",
          "text": [
            "Enter Pass Band:2000\n",
            "Enter stop Band:5000\n",
            "Enter Fs:20000\n",
            "Enter Filter length:21\n"
          ]
        }
      ]
    },
    {
      "cell_type": "code",
      "source": [
        "tap = firwin(filter_length, pass_band,width=stop-pass_band,pass_zero='lowpass',fs=fs1,window='hann')\n",
        "\n",
        "response = freqz(tap, worN=5000)"
      ],
      "metadata": {
        "id": "Qrry_p_z1rB5"
      },
      "execution_count": 3,
      "outputs": []
    },
    {
      "cell_type": "code",
      "source": [
        "plt.plot(fs1*.5*response[0]/(np.pi), np.abs(response[1]))\n",
        "plt.grid()\n",
        "plt.show()"
      ],
      "metadata": {
        "id": "No-1L0bo1rtf",
        "colab": {
          "base_uri": "https://localhost:8080/",
          "height": 430
        },
        "outputId": "5afd625b-8386-43bf-8c39-9f3ddd3df2ba"
      },
      "execution_count": 4,
      "outputs": [
        {
          "output_type": "display_data",
          "data": {
            "text/plain": [
              "<Figure size 640x480 with 1 Axes>"
            ],
            "image/png": "[encoded data removed]"
          },
          "metadata": {}
        }
      ]
    }
  ]
}